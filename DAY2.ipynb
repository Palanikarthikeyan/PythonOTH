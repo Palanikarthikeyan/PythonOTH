{
 "cells": [
  {
   "cell_type": "code",
   "execution_count": 1,
   "id": "eadfa393-3dc5-45bf-9adc-d69e9051023e",
   "metadata": {},
   "outputs": [
    {
     "name": "stdout",
     "output_type": "stream",
     "text": [
      "a\n"
     ]
    }
   ],
   "source": [
    "s='abcdef'\n",
    "print(s[0])"
   ]
  },
  {
   "cell_type": "code",
   "execution_count": 2,
   "id": "48b76c1a-715a-4ebe-a03d-ad8003d04ea8",
   "metadata": {},
   "outputs": [
    {
     "name": "stdout",
     "output_type": "stream",
     "text": [
      "data1\n"
     ]
    }
   ],
   "source": [
    "L=['data1','data2']\n",
    "print(L[0])"
   ]
  },
  {
   "cell_type": "code",
   "execution_count": 3,
   "id": "6dd7db54-5355-4838-8c58-7ac837192cbf",
   "metadata": {},
   "outputs": [
    {
     "name": "stdout",
     "output_type": "stream",
     "text": [
      "D1\n"
     ]
    }
   ],
   "source": [
    "t=('D1','D2')\n",
    "print(t[0])"
   ]
  },
  {
   "cell_type": "code",
   "execution_count": 5,
   "id": "9cee5837-6556-4339-9e52-961050170f58",
   "metadata": {},
   "outputs": [
    {
     "name": "stdout",
     "output_type": "stream",
     "text": [
      "<class 'dict'>\n",
      "{'pid': 1234, 'pname': 'pA', 'pcost': 1235.63, 'pstatus': True}\n",
      "4\n"
     ]
    }
   ],
   "source": [
    "# dict - Collection of unordered data = key:value //pair - mutable (we can add/modify/delete)\n",
    "#\n",
    "# dictname = {} \n",
    "\n",
    "product_info = {'pid':1234,'pname':'pA','pcost':1235.63,'pstatus':True}\n",
    "print(type(product_info))\n",
    "print(product_info)\n",
    "print(len(product_info))"
   ]
  },
  {
   "cell_type": "code",
   "execution_count": 10,
   "id": "287c5c24-fc3d-4dc2-8641-2ed85472fafb",
   "metadata": {},
   "outputs": [
    {
     "name": "stdout",
     "output_type": "stream",
     "text": [
      "D1\n",
      "D2\n",
      "Data-2\n",
      "['D1', 'Data-2', 10, 2.5, True]\n"
     ]
    }
   ],
   "source": [
    "L = ['D1','D2',10,2.5,True]\n",
    "\n",
    "# How to fetch nth item from list ?  => Listname[index] ->Value / IndexError\n",
    "\n",
    "print(L[0])\n",
    "# print(L[6]) IndexError: list index out of range\n",
    "\n",
    "# How to modify an existing data from list ? => Listname[oldIndex] = updatedValue \n",
    "print(L[1]) # 'D2'\n",
    "L[1] = 'Data-2' # modification\n",
    "print(L[1])\n",
    "print(L)"
   ]
  },
  {
   "cell_type": "code",
   "execution_count": 11,
   "id": "574091b1-b9c9-4312-8ff6-2a4fa360dd31",
   "metadata": {},
   "outputs": [
    {
     "name": "stdout",
     "output_type": "stream",
     "text": [
      "1234\n",
      "pA\n",
      "{'pid': 1234, 'pname': 'pB', 'pcost': 1235.63, 'pstatus': True}\n"
     ]
    }
   ],
   "source": [
    "product_info = {'pid':1234,'pname':'pA','pcost':1235.63,'pstatus':True}\n",
    "# How to fetch nth item from dict ?  => dictname[oldkey] ->Value / KeyError\n",
    "\n",
    "print(product_info['pid'])\n",
    "print(product_info['pname'])\n",
    "# print(product_info['pNAME']) KeyError: 'pNAME'\n",
    "\n",
    "# To modify an existing value from dict =>  dictname['oldKey'] = updatedValue \n",
    "product_info['pname'] = 'pB'  # modification\n",
    "print(product_info)"
   ]
  },
  {
   "cell_type": "code",
   "execution_count": 12,
   "id": "dbddf4f8-6f29-4ca0-8ac3-1f1d94efc593",
   "metadata": {},
   "outputs": [
    {
     "name": "stdout",
     "output_type": "stream",
     "text": [
      "['D1', 'D2', 10, 2.5, True, 'D3']\n"
     ]
    }
   ],
   "source": [
    "L = ['D1','D2',10,2.5,True]\n",
    "\n",
    "# How to add new data to an existing list ?  \n",
    "#  Listname.append(Value)  (or)  Listname.insert(<index>,value)\n",
    "\n",
    "L.append('D3')\n",
    "print(L)"
   ]
  },
  {
   "cell_type": "code",
   "execution_count": 13,
   "id": "805ebacf-b552-40a2-82b9-df4a59e2b462",
   "metadata": {},
   "outputs": [
    {
     "name": "stdout",
     "output_type": "stream",
     "text": [
      "{'pid': 1234, 'pname': 'pA', 'pcost': 1235.63, 'pstatus': True}\n",
      "\n",
      "{'pid': 1234, 'pname': 'pA', 'pcost': 5909.32, 'pstatus': True, 'pvendor': 'oracle'}\n"
     ]
    }
   ],
   "source": [
    "product_info = {'pid':1234,'pname':'pA','pcost':1235.63,'pstatus':True}\n",
    "\n",
    "# How to add new data(key:value) to an existing dict?\n",
    "# dictname['newKey'] = value   Vs   dictname['oldKey'] = updatedValue\n",
    "#           ^^^^^                             ^^^^^^\n",
    "\n",
    "print(product_info)\n",
    "print('')\n",
    "product_info['pvendor'] = 'oracle' # adding new data to an existing dict\n",
    "product_info['pcost'] = 5909.32    # modification\n",
    "print(product_info)"
   ]
  },
  {
   "cell_type": "code",
   "execution_count": 14,
   "id": "1550541e-337d-47bf-bde2-5ae7ec735b84",
   "metadata": {},
   "outputs": [
    {
     "name": "stdout",
     "output_type": "stream",
     "text": [
      "removed item:Dy\n",
      "['D1', 'D2', 'D3', 10, 20, 30, 40, 50, 'Dx']\n"
     ]
    }
   ],
   "source": [
    "L=['D1','D2','D3',10,20,30,40,50,'Dx','Dy']\n",
    "r = L.pop() # remove last index value - default \n",
    "print(f'removed item:{r}')\n",
    "print(L)"
   ]
  },
  {
   "cell_type": "code",
   "execution_count": 15,
   "id": "cc50bb32-5947-42dc-a3e2-f89ca67907eb",
   "metadata": {},
   "outputs": [
    {
     "name": "stdout",
     "output_type": "stream",
     "text": [
      "removed item:30\n",
      "['D1', 'D2', 'D3', 10, 20, 40, 50, 'Dx']\n"
     ]
    }
   ],
   "source": [
    "r = L.pop(5)\n",
    "print(f'removed item:{r}')\n",
    "print(L)"
   ]
  },
  {
   "cell_type": "code",
   "execution_count": 16,
   "id": "331ad813-1b6e-4a5d-821e-43526a6ea9b1",
   "metadata": {},
   "outputs": [
    {
     "name": "stdout",
     "output_type": "stream",
     "text": [
      "{'K1': 'V1', 'K2': 'V2', 'K3': 123, 'K4': 45.23}\n",
      "removed value:V2\n",
      "{'K1': 'V1', 'K3': 123, 'K4': 45.23}\n"
     ]
    }
   ],
   "source": [
    "d={'K1':'V1','K2':'V2','K3':123,'K4':45.23}\n",
    "print(d)\n",
    "# to delete nth item from dict =>  dictname.pop(<oldKey>) ->removed_value \n",
    "r = d.pop('K2')\n",
    "print(f'removed value:{r}')\n",
    "print(d)"
   ]
  },
  {
   "cell_type": "code",
   "execution_count": null,
   "id": "130bf313-07c0-4bd5-a43c-c4edcfc19725",
   "metadata": {},
   "outputs": [],
   "source": [
    "Task:\n",
    "1. create an employee dictionary - empty dict => emp={}\n",
    "2. add emp details(empID,empName,empDept,empDOB,empPay) to an existing dict\n",
    "3. display emp details \n",
    "4. modify emp - working department \n",
    "5. delete empPay\n",
    "6. Add empContact number\n",
    "7. display updated emp records"
   ]
  },
  {
   "cell_type": "code",
   "execution_count": 17,
   "id": "ffaf945f-d558-4444-8c6d-397c08445fa8",
   "metadata": {},
   "outputs": [
    {
     "name": "stdout",
     "output_type": "stream",
     "text": [
      "{'eid': 123, 'ename': 'Mr.Leo', 'edept': 'sales', 'edob': '1st Jan', 'epay': 12562.32}\n"
     ]
    }
   ],
   "source": [
    "emp = {} # empty dict\n",
    "# adding emp details to an existing dict\n",
    "emp['eid'] = 123\n",
    "emp['ename'] = 'Mr.Leo'\n",
    "emp['edept'] = 'sales'\n",
    "emp['edob'] = '1st Jan'\n",
    "emp['epay'] = 12562.32\n",
    "print(emp) # display emp details"
   ]
  },
  {
   "cell_type": "code",
   "execution_count": 18,
   "id": "62a3c454-081f-493c-bc67-ef7ca44a2ce5",
   "metadata": {},
   "outputs": [
    {
     "name": "stdout",
     "output_type": "stream",
     "text": [
      "{'eid': 123, 'ename': 'Mr.Leo', 'edept': 'production', 'edob': '1st Jan', 'epay': 12562.32}\n"
     ]
    }
   ],
   "source": [
    "emp['edept'] = 'production' # modification\n",
    "print(emp)"
   ]
  },
  {
   "cell_type": "code",
   "execution_count": 19,
   "id": "d3683448-17a1-4c84-b27f-65a0e823a99a",
   "metadata": {},
   "outputs": [
    {
     "name": "stdout",
     "output_type": "stream",
     "text": [
      "{'eid': 123, 'ename': 'Mr.Leo', 'edept': 'production', 'edob': '1st Jan'}\n"
     ]
    }
   ],
   "source": [
    "r = emp.pop('epay') # delete emp cost\n",
    "print(emp)"
   ]
  },
  {
   "cell_type": "code",
   "execution_count": 20,
   "id": "4dbce87b-7f43-47ed-908d-d92ee16594b7",
   "metadata": {},
   "outputs": [
    {
     "data": {
      "text/plain": [
       "{'eid': 123,\n",
       " 'ename': 'Mr.Leo',\n",
       " 'edept': 'production',\n",
       " 'edob': '1st Jan',\n",
       " 'contact': '080-6651423'}"
      ]
     },
     "execution_count": 20,
     "metadata": {},
     "output_type": "execute_result"
    }
   ],
   "source": [
    "emp['contact'] = '080-6651423' # adding new data\n",
    "emp"
   ]
  },
  {
   "cell_type": "code",
   "execution_count": null,
   "id": "d32eab0b-7cfb-47d4-a39a-7c185ff680e0",
   "metadata": {},
   "outputs": [],
   "source": [
    "d={}  # OK\n",
    "d['K1']='V1'  # OK\n",
    "print(d['K1']) # OK\n",
    "print(d['K2']) # KeyError \n",
    "\n",
    "d={1:True,():False,[]:'OK'} # \n",
    "    ----   ------  ====== Error \n",
    "d.pop() # Error "
   ]
  },
  {
   "cell_type": "code",
   "execution_count": 24,
   "id": "0d7e08e0-f76b-4bf3-bf07-87c9b211ea46",
   "metadata": {},
   "outputs": [
    {
     "name": "stdout",
     "output_type": "stream",
     "text": [
      "12 abababababab\n",
      "4 ['Data1', 'Data1', 'Data1', 'Data1']\n",
      "4 ('Data1', 'Data1', 'Data1', 'Data1')\n",
      "3 {'K1': 'Data1', 'K2': 'Data1', 'K3': 'Data1'}\n",
      "\n",
      "<class 'set'>\n",
      "3\n",
      "{10, 20, 'data1'}\n"
     ]
    }
   ],
   "source": [
    "s='abababababab'\n",
    "print(len(s),s)\n",
    "\n",
    "L=['Data1','Data1','Data1','Data1']\n",
    "print(len(L),L)\n",
    "\n",
    "T=('Data1','Data1','Data1','Data1')\n",
    "print(len(T),T)\n",
    "\n",
    "d={'K1':'Data1','K2':'Data1','K3':'Data1'}\n",
    "print(len(d),d)\n",
    "\n",
    "print('') # Empty line\n",
    "\n",
    "s={'data1','data1','data1','data1',10,20,10,20,10,20}\n",
    "print(type(s))\n",
    "print(len(s))\n",
    "print(s)"
   ]
  },
  {
   "cell_type": "code",
   "execution_count": 25,
   "id": "471155ad-092d-4a59-aab3-1bf5ec6bed2f",
   "metadata": {},
   "outputs": [
    {
     "data": {
      "text/plain": [
       "['Data1', 'Data2', 'Data1', 'Data2', 'Data1', 'Data2', 'Data1', 'Data2']"
      ]
     },
     "execution_count": 25,
     "metadata": {},
     "output_type": "execute_result"
    }
   ],
   "source": [
    "L=['Data1','Data2']\n",
    "L.append('Data1')\n",
    "L.append('Data2')\n",
    "L.append('Data1')\n",
    "L.append('Data2')\n",
    "L.append('Data1')\n",
    "L.append('Data2')\n",
    "L"
   ]
  },
  {
   "cell_type": "code",
   "execution_count": 26,
   "id": "f19975f1-f454-456e-ad68-0e32d24ac5b0",
   "metadata": {},
   "outputs": [
    {
     "data": {
      "text/plain": [
       "{'Data1', 'Data2'}"
      ]
     },
     "execution_count": 26,
     "metadata": {},
     "output_type": "execute_result"
    }
   ],
   "source": [
    "set(L) #typecast to set"
   ]
  },
  {
   "cell_type": "code",
   "execution_count": 27,
   "id": "98940141-13dc-4a86-ab9f-0d46428cc929",
   "metadata": {},
   "outputs": [
    {
     "data": {
      "text/plain": [
       "['Data2', 'Data1']"
      ]
     },
     "execution_count": 27,
     "metadata": {},
     "output_type": "execute_result"
    }
   ],
   "source": [
    "sL = set(L) #typecast to set\n",
    "list(sL) # typecast to list"
   ]
  },
  {
   "cell_type": "code",
   "execution_count": null,
   "id": "336e96fb-1c3f-4a9e-9ffe-99858fc74d24",
   "metadata": {},
   "outputs": [],
   "source": [
    "python operators\n",
    "-----------------\n",
    "1. Arithmetic operators =>  + - * / // % **  (inputTypes: int,float -> int,float)"
   ]
  },
  {
   "cell_type": "code",
   "execution_count": 28,
   "id": "18ded197-0c79-4beb-ab72-7f3cc252d216",
   "metadata": {},
   "outputs": [
    {
     "data": {
      "text/plain": [
       "8"
      ]
     },
     "execution_count": 28,
     "metadata": {},
     "output_type": "execute_result"
    }
   ],
   "source": [
    "2 ** 3"
   ]
  },
  {
   "cell_type": "code",
   "execution_count": 30,
   "id": "18de74b5-a118-458b-900e-7bcac6a7d9e4",
   "metadata": {},
   "outputs": [
    {
     "data": {
      "text/plain": [
       "2.0"
      ]
     },
     "execution_count": 30,
     "metadata": {},
     "output_type": "execute_result"
    }
   ],
   "source": [
    "10 / 5"
   ]
  },
  {
   "cell_type": "code",
   "execution_count": 31,
   "id": "eb04ead8-ba82-470b-9eec-5ef678e0cc06",
   "metadata": {},
   "outputs": [
    {
     "data": {
      "text/plain": [
       "2"
      ]
     },
     "execution_count": 31,
     "metadata": {},
     "output_type": "execute_result"
    }
   ],
   "source": [
    "10 // 5"
   ]
  },
  {
   "cell_type": "code",
   "execution_count": 32,
   "id": "7158081b-8364-4eb7-ba7a-b58adab5593d",
   "metadata": {},
   "outputs": [
    {
     "data": {
      "text/plain": [
       "1"
      ]
     },
     "execution_count": 32,
     "metadata": {},
     "output_type": "execute_result"
    }
   ],
   "source": [
    "10 % 3"
   ]
  },
  {
   "cell_type": "code",
   "execution_count": null,
   "id": "97214ed4-4c44-4f04-a139-5d54bf9c1c5e",
   "metadata": {},
   "outputs": [],
   "source": [
    "python operators\n",
    "-----------------\n",
    "1. Arithmetic operators =>  + - * / // % **  (inputTypes: int,float -> int,float)\n",
    "2. string operators =>  + * (inputTypes: str,int ->str)"
   ]
  },
  {
   "cell_type": "code",
   "execution_count": 33,
   "id": "c4620c07-e94e-4275-974d-dcd3dee7aafe",
   "metadata": {},
   "outputs": [
    {
     "name": "stdout",
     "output_type": "stream",
     "text": [
      "30\n",
      "AB\n"
     ]
    }
   ],
   "source": [
    "print(10+20) # 30\n",
    "print('A'+'B') "
   ]
  },
  {
   "cell_type": "code",
   "execution_count": 34,
   "id": "37f0bcff-3bdc-4a8a-b964-9372a94a4fe0",
   "metadata": {},
   "outputs": [
    {
     "name": "stdout",
     "output_type": "stream",
     "text": [
      "4050\n"
     ]
    }
   ],
   "source": [
    "print('40'+str(50)) # 4050"
   ]
  },
  {
   "cell_type": "code",
   "execution_count": 35,
   "id": "c0fa44ba-f2c3-4bb8-a8e0-2c4a9b864379",
   "metadata": {},
   "outputs": [
    {
     "ename": "TypeError",
     "evalue": "can only concatenate str (not \"int\") to str",
     "output_type": "error",
     "traceback": [
      "\u001b[1;31m---------------------------------------------------------------------------\u001b[0m",
      "\u001b[1;31mTypeError\u001b[0m                                 Traceback (most recent call last)",
      "Cell \u001b[1;32mIn[35], line 1\u001b[0m\n\u001b[1;32m----> 1\u001b[0m \u001b[38;5;28mprint\u001b[39m(\u001b[38;5;124m'\u001b[39m\u001b[38;5;124mA\u001b[39m\u001b[38;5;124m'\u001b[39m\u001b[38;5;241m+\u001b[39m\u001b[38;5;241m10\u001b[39m)\n",
      "\u001b[1;31mTypeError\u001b[0m: can only concatenate str (not \"int\") to str"
     ]
    }
   ],
   "source": [
    "print('A'+10)"
   ]
  },
  {
   "cell_type": "code",
   "execution_count": 36,
   "id": "4e3ae0ef-2d94-4c0b-b8f9-003f675ebb6d",
   "metadata": {},
   "outputs": [
    {
     "name": "stdout",
     "output_type": "stream",
     "text": [
      "A10\n"
     ]
    }
   ],
   "source": [
    "print('A'+str(10))"
   ]
  },
  {
   "cell_type": "code",
   "execution_count": 38,
   "id": "0426d9fd-366a-4656-977d-de28dc90bd31",
   "metadata": {},
   "outputs": [
    {
     "name": "stdout",
     "output_type": "stream",
     "text": [
      "HelloHelloHelloHelloHello\n"
     ]
    }
   ],
   "source": [
    "print('Hello' * 5)"
   ]
  },
  {
   "cell_type": "code",
   "execution_count": 39,
   "id": "1db0df9a-d3dc-4d7c-99ea-ab16d59980b2",
   "metadata": {},
   "outputs": [
    {
     "name": "stdout",
     "output_type": "stream",
     "text": [
      "ABABAB\n"
     ]
    }
   ],
   "source": [
    "print('AB'*3)"
   ]
  },
  {
   "cell_type": "code",
   "execution_count": 40,
   "id": "1f225084-abdb-42a8-b3a4-b834b1eaee6f",
   "metadata": {},
   "outputs": [
    {
     "name": "stdout",
     "output_type": "stream",
     "text": [
      "This is sample test message\n",
      "about vector db corpus\n",
      "data\n",
      "This is sample test message\n",
      "about vector db corpus\n",
      "data\n",
      "This is sample test message\n",
      "about vector db corpus\n",
      "data\n",
      "This is sample test message\n",
      "about vector db corpus\n",
      "data\n",
      "This is sample test message\n",
      "about vector db corpus\n",
      "data\n",
      "\n"
     ]
    }
   ],
   "source": [
    "s='''This is sample test message\n",
    "about vector db corpus\n",
    "data\\n'''\n",
    "\n",
    "print(s*5)"
   ]
  },
  {
   "cell_type": "code",
   "execution_count": 41,
   "id": "2bde2589-08b4-48fc-8112-d000cf1d882d",
   "metadata": {},
   "outputs": [
    {
     "name": "stdout",
     "output_type": "stream",
     "text": [
      "--------------------------------------------------\n"
     ]
    }
   ],
   "source": [
    "print('-'*50)"
   ]
  },
  {
   "cell_type": "code",
   "execution_count": null,
   "id": "36edb217-9d91-45f4-ab0f-43ae7581d42d",
   "metadata": {},
   "outputs": [],
   "source": [
    "python operators\n",
    "-----------------\n",
    "1. Arithmetic operators =>  + - * / // % **  (inputTypes: int,float -> int,float)\n",
    "\n",
    "2. string operators =>  + * (inputTypes: str,int ->str)\n",
    "\n",
    "3. relational operators =>  == != < <= > >= (inputTypes: int,float,str ->bool)\n",
    "|\n",
    "4. logical operators => and or not  (inputTypes: int,float,str ->bool)\n",
    "   ------------------   \n",
    "    Single Conditional statement, test more than one condition \n",
    "\n",
    "5. membership operators =>  in  not in (inputTypes: str,list,tuple,dict,set  -> bool)"
   ]
  },
  {
   "cell_type": "code",
   "execution_count": 42,
   "id": "e69a5eea-04a8-4e10-80a9-a279c4dacd45",
   "metadata": {},
   "outputs": [
    {
     "data": {
      "text/plain": [
       "True"
      ]
     },
     "execution_count": 42,
     "metadata": {},
     "output_type": "execute_result"
    }
   ],
   "source": [
    "159.31 >100"
   ]
  },
  {
   "cell_type": "code",
   "execution_count": 43,
   "id": "d3d8dd2c-8ef2-4ff1-839f-c8a248638ca6",
   "metadata": {},
   "outputs": [
    {
     "data": {
      "text/plain": [
       "False"
      ]
     },
     "execution_count": 43,
     "metadata": {},
     "output_type": "execute_result"
    }
   ],
   "source": [
    "159.31 < 0.23"
   ]
  },
  {
   "cell_type": "code",
   "execution_count": 44,
   "id": "510fb8e1-44ad-4e19-a88f-5a1ea6db201e",
   "metadata": {},
   "outputs": [
    {
     "data": {
      "text/plain": [
       "False"
      ]
     },
     "execution_count": 44,
     "metadata": {},
     "output_type": "execute_result"
    }
   ],
   "source": [
    "name = 'admin'\n",
    "name == 'root'"
   ]
  },
  {
   "cell_type": "code",
   "execution_count": 45,
   "id": "724db40b-8c89-458d-b121-033ffee1cb13",
   "metadata": {},
   "outputs": [
    {
     "data": {
      "text/plain": [
       "True"
      ]
     },
     "execution_count": 45,
     "metadata": {},
     "output_type": "execute_result"
    }
   ],
   "source": [
    "name != 'root'"
   ]
  },
  {
   "cell_type": "code",
   "execution_count": 46,
   "id": "98999f1f-1ba9-4d38-90fc-2d3e340cb258",
   "metadata": {},
   "outputs": [
    {
     "data": {
      "text/plain": [
       "False"
      ]
     },
     "execution_count": 46,
     "metadata": {},
     "output_type": "execute_result"
    }
   ],
   "source": [
    "name == 'Admin'"
   ]
  },
  {
   "cell_type": "code",
   "execution_count": 47,
   "id": "4706b5cd-d5b6-4b67-8572-4289469d3fc4",
   "metadata": {},
   "outputs": [
    {
     "data": {
      "text/plain": [
       "False"
      ]
     },
     "execution_count": 47,
     "metadata": {},
     "output_type": "execute_result"
    }
   ],
   "source": [
    "# test app port number range is 501-599\n",
    "\n",
    "port=450\n",
    "port >500 # test1"
   ]
  },
  {
   "cell_type": "code",
   "execution_count": 48,
   "id": "dcbe1aaa-5aac-401f-84ce-6b6e021b68d8",
   "metadata": {},
   "outputs": [
    {
     "data": {
      "text/plain": [
       "True"
      ]
     },
     "execution_count": 48,
     "metadata": {},
     "output_type": "execute_result"
    }
   ],
   "source": [
    "port <600 # test2"
   ]
  },
  {
   "cell_type": "code",
   "execution_count": 49,
   "id": "ff2608c0-ba36-49ba-b3e3-1f32d95ebcc8",
   "metadata": {},
   "outputs": [
    {
     "data": {
      "text/plain": [
       "False"
      ]
     },
     "execution_count": 49,
     "metadata": {},
     "output_type": "execute_result"
    }
   ],
   "source": [
    "port >500 and port <600"
   ]
  },
  {
   "cell_type": "code",
   "execution_count": 50,
   "id": "0931f005-8f0f-4e92-9db1-b704396c679b",
   "metadata": {},
   "outputs": [
    {
     "data": {
      "text/plain": [
       "False"
      ]
     },
     "execution_count": 50,
     "metadata": {},
     "output_type": "execute_result"
    }
   ],
   "source": [
    "port=650\n",
    "port >500 and port <600"
   ]
  },
  {
   "cell_type": "code",
   "execution_count": 51,
   "id": "da5feeb4-7609-4609-912b-2758c268721d",
   "metadata": {},
   "outputs": [
    {
     "data": {
      "text/plain": [
       "True"
      ]
     },
     "execution_count": 51,
     "metadata": {},
     "output_type": "execute_result"
    }
   ],
   "source": [
    "port=560\n",
    "port >500 and port<600"
   ]
  },
  {
   "cell_type": "code",
   "execution_count": 52,
   "id": "883d55b2-a77a-4552-962d-098dd7a0bb1f",
   "metadata": {},
   "outputs": [
    {
     "data": {
      "text/plain": [
       "True"
      ]
     },
     "execution_count": 52,
     "metadata": {},
     "output_type": "execute_result"
    }
   ],
   "source": [
    "# test app name is OLA (or) Uber any one app is matched - OK\n",
    "app = 'OLA'\n",
    "\n",
    "app == 'OLA' or app == 'Uber'"
   ]
  },
  {
   "cell_type": "code",
   "execution_count": null,
   "id": "8aa91ea1-1818-440b-9ac1-9eabbf1f7be0",
   "metadata": {},
   "outputs": [],
   "source": [
    "5. membership operators =>  in  not in (inputTypes: str,list,tuple,dict,set  -> bool)\n",
    "\n",
    "'searchpattern_string' in  inputCollection"
   ]
  },
  {
   "cell_type": "code",
   "execution_count": 53,
   "id": "37c062ef-c913-4c1d-b567-a8ab86b9089d",
   "metadata": {},
   "outputs": [
    {
     "data": {
      "text/plain": [
       "True"
      ]
     },
     "execution_count": 53,
     "metadata": {},
     "output_type": "execute_result"
    }
   ],
   "source": [
    "s='101,raj,sales,bglore'\n",
    "\n",
    "'sales' in s"
   ]
  },
  {
   "cell_type": "code",
   "execution_count": 54,
   "id": "a41588e9-4b8e-4c81-b8bf-1867c7380b28",
   "metadata": {},
   "outputs": [
    {
     "data": {
      "text/plain": [
       "False"
      ]
     },
     "execution_count": 54,
     "metadata": {},
     "output_type": "execute_result"
    }
   ],
   "source": [
    "'prod' in s"
   ]
  },
  {
   "cell_type": "code",
   "execution_count": 55,
   "id": "6ad9bf89-a59e-4133-978f-a77ff878bf25",
   "metadata": {},
   "outputs": [
    {
     "data": {
      "text/plain": [
       "False"
      ]
     },
     "execution_count": 55,
     "metadata": {},
     "output_type": "execute_result"
    }
   ],
   "source": [
    "files =['p1.log','p2.log','p3.csv','emp.csv','data.html','index.html']\n",
    "\n",
    "'p1.pdf' in files"
   ]
  },
  {
   "cell_type": "code",
   "execution_count": 56,
   "id": "4ae10503-466a-4317-ab54-c507aa9819b1",
   "metadata": {},
   "outputs": [
    {
     "data": {
      "text/plain": [
       "True"
      ]
     },
     "execution_count": 56,
     "metadata": {},
     "output_type": "execute_result"
    }
   ],
   "source": [
    "'emp.csv' in files"
   ]
  },
  {
   "cell_type": "code",
   "execution_count": 57,
   "id": "8f7bb6bf-125b-4392-99c6-8a0796af95a6",
   "metadata": {},
   "outputs": [
    {
     "data": {
      "text/plain": [
       "True"
      ]
     },
     "execution_count": 57,
     "metadata": {},
     "output_type": "execute_result"
    }
   ],
   "source": [
    "# test input key is existing or not\n",
    "\n",
    "d={'K1':'Value1','K2':'Value2'}\n",
    "\n",
    "'K1' in d"
   ]
  },
  {
   "cell_type": "code",
   "execution_count": 58,
   "id": "a8973e88-5c72-4da6-b909-b6f71480d15e",
   "metadata": {},
   "outputs": [
    {
     "data": {
      "text/plain": [
       "False"
      ]
     },
     "execution_count": 58,
     "metadata": {},
     "output_type": "execute_result"
    }
   ],
   "source": [
    "'Kx' in d"
   ]
  },
  {
   "cell_type": "code",
   "execution_count": 59,
   "id": "1758de7e-8f12-4dab-b96d-3d645e1c5d1a",
   "metadata": {},
   "outputs": [
    {
     "data": {
      "text/plain": [
       "False"
      ]
     },
     "execution_count": 59,
     "metadata": {},
     "output_type": "execute_result"
    }
   ],
   "source": [
    "'Value1' in d"
   ]
  },
  {
   "cell_type": "code",
   "execution_count": 60,
   "id": "148f09f0-ec60-4c62-b13e-fb88c0bdd442",
   "metadata": {},
   "outputs": [
    {
     "data": {
      "text/plain": [
       "True"
      ]
     },
     "execution_count": 60,
     "metadata": {},
     "output_type": "execute_result"
    }
   ],
   "source": [
    "s={'D1','D2'}\n",
    "'D1' in s"
   ]
  },
  {
   "cell_type": "code",
   "execution_count": 61,
   "id": "45a5ee19-23ca-48dd-9620-b7f27ec899ff",
   "metadata": {},
   "outputs": [
    {
     "data": {
      "text/plain": [
       "False"
      ]
     },
     "execution_count": 61,
     "metadata": {},
     "output_type": "execute_result"
    }
   ],
   "source": [
    "'D1' not in s"
   ]
  },
  {
   "cell_type": "code",
   "execution_count": null,
   "id": "cd89d29b-31cb-4e42-b555-1aa1dd7eb8b5",
   "metadata": {},
   "outputs": [],
   "source": [
    "1. Read a port number from Keyboard\n",
    "2. typecast to int\n",
    "3. test - input port number is above 500 and below 600\n",
    "            -> initialize app name is testApp (  app=\"TestApp\")\n",
    "            otherwise app name is demoApp     (  app=\"demoApp\")\n",
    " |\n",
    "4. display app name and port number "
   ]
  },
  {
   "cell_type": "code",
   "execution_count": 62,
   "id": "ba292cf0-ebd8-480a-9615-64fc212bde41",
   "metadata": {},
   "outputs": [
    {
     "name": "stdin",
     "output_type": "stream",
     "text": [
      "Enter a port number: 450\n"
     ]
    },
    {
     "name": "stdout",
     "output_type": "stream",
     "text": [
      "App name is:demotApp running port number is:450\n"
     ]
    }
   ],
   "source": [
    "port = input('Enter a port number:')\n",
    "port = int(port)\n",
    "if(port >500 and port <600):\n",
    "    app = 'TestApp'\n",
    "else:\n",
    "    app = 'demotApp'\n",
    "\n",
    "print(f'App name is:{app} running port number is:{port}')\n"
   ]
  },
  {
   "cell_type": "code",
   "execution_count": 63,
   "id": "5feb6f3f-6895-49d6-9316-dee0d3aa30e4",
   "metadata": {},
   "outputs": [
    {
     "name": "stdin",
     "output_type": "stream",
     "text": [
      "Enter a port number: 670\n"
     ]
    },
    {
     "name": "stdout",
     "output_type": "stream",
     "text": [
      "App name is:demotApp running port number is:670\n"
     ]
    }
   ],
   "source": [
    "port = input('Enter a port number:')\n",
    "port = int(port)\n",
    "if(port >500 and port <600):\n",
    "    app = 'TestApp'\n",
    "else:\n",
    "    app = 'demotApp'\n",
    "\n",
    "print(f'App name is:{app} running port number is:{port}')\n"
   ]
  },
  {
   "cell_type": "code",
   "execution_count": 65,
   "id": "1d69e37c-0201-4c21-a9ec-daf11947877b",
   "metadata": {},
   "outputs": [
    {
     "name": "stdin",
     "output_type": "stream",
     "text": [
      "Enter a port number: 567\n"
     ]
    },
    {
     "name": "stdout",
     "output_type": "stream",
     "text": [
      "App name is:TestApp running port number is:567\n"
     ]
    }
   ],
   "source": [
    "port = input('Enter a port number:')\n",
    "port = int(port)\n",
    "if(port >500 and port <600):\n",
    "    app = 'TestApp'\n",
    "else:\n",
    "    app = 'demoApp'\n",
    "\n",
    "print(f'App name is:{app} running port number is:{port}')\n"
   ]
  },
  {
   "cell_type": "code",
   "execution_count": 66,
   "id": "f16ccd51-d716-4ecc-843a-04ef910b6bc6",
   "metadata": {},
   "outputs": [
    {
     "name": "stdout",
     "output_type": "stream",
     "text": [
      "a\n",
      "b\n",
      "c\n",
      "d\n"
     ]
    }
   ],
   "source": [
    "for var in 'abcd':\n",
    "    print(var)"
   ]
  },
  {
   "cell_type": "code",
   "execution_count": 67,
   "id": "3a80c64e-cef0-4a93-9003-b03e3972fa07",
   "metadata": {},
   "outputs": [
    {
     "name": "stdout",
     "output_type": "stream",
     "text": [
      "var value is:D1\n",
      "var value is:D2\n",
      "var value is:10\n",
      "var value is:20\n",
      "var value is:30\n",
      "var value is:40\n"
     ]
    }
   ],
   "source": [
    "for var in ['D1','D2',10,20,30,40]:\n",
    "    print(f'var value is:{var}')"
   ]
  },
  {
   "cell_type": "code",
   "execution_count": 68,
   "id": "9fe83cba-baf1-4cd1-a0cb-050981d16bed",
   "metadata": {},
   "outputs": [
    {
     "name": "stdout",
     "output_type": "stream",
     "text": [
      "var value is:D1\n",
      "var value is:D2\n",
      "var value is:10\n",
      "var value is:20\n",
      "var value is:30\n",
      "var value is:40\n"
     ]
    }
   ],
   "source": [
    "for var in ('D1','D2',10,20,30,40):\n",
    "    print(f'var value is:{var}')"
   ]
  },
  {
   "cell_type": "code",
   "execution_count": 69,
   "id": "30a848b7-a1ad-40ef-8d2e-aa80612380a0",
   "metadata": {},
   "outputs": [
    {
     "name": "stdout",
     "output_type": "stream",
     "text": [
      "K1\n",
      "K2\n",
      "K3\n",
      "K4\n"
     ]
    }
   ],
   "source": [
    "for var in {'K1':'V1','K2':'V2','K3':10,'K4':3.1}: # will get list of keys only \n",
    "    print(var)"
   ]
  },
  {
   "cell_type": "code",
   "execution_count": 70,
   "id": "156ae211-975f-4704-919f-053c644a17a3",
   "metadata": {},
   "outputs": [
    {
     "data": {
      "text/plain": [
       "'V1'"
      ]
     },
     "execution_count": 70,
     "metadata": {},
     "output_type": "execute_result"
    }
   ],
   "source": [
    "d={'K1':'V1','K2':'V2','K3':10,'K4':3.1}\n",
    "d['K1']"
   ]
  },
  {
   "cell_type": "code",
   "execution_count": 71,
   "id": "45433598-e96d-4d6f-b06f-06788e28256a",
   "metadata": {},
   "outputs": [
    {
     "name": "stdout",
     "output_type": "stream",
     "text": [
      "V1\n",
      "V2\n",
      "10\n",
      "3.1\n"
     ]
    }
   ],
   "source": [
    "for var in d:\n",
    "    print(d[var])"
   ]
  },
  {
   "cell_type": "code",
   "execution_count": 72,
   "id": "d668d6c2-5c2e-418f-bff8-a1fb02783a2e",
   "metadata": {},
   "outputs": [
    {
     "name": "stdout",
     "output_type": "stream",
     "text": [
      "K1 - V1\n",
      "K2 - V2\n",
      "K3 - 10\n",
      "K4 - 3.1\n"
     ]
    }
   ],
   "source": [
    "# To get Key - value\n",
    "for var in d:\n",
    "    print(f'{var} - {d[var]}')"
   ]
  },
  {
   "cell_type": "code",
   "execution_count": 73,
   "id": "b2c98910-36cc-46f3-9c91-967776fafbe9",
   "metadata": {},
   "outputs": [
    {
     "name": "stdout",
     "output_type": "stream",
     "text": [
      "a\n",
      "b\n",
      "c\n",
      "d\n"
     ]
    }
   ],
   "source": [
    "s='abcd'\n",
    "for var in s:\n",
    "    print(var)"
   ]
  },
  {
   "cell_type": "code",
   "execution_count": null,
   "id": "dc361863-47e6-45b2-8699-a97259b327fc",
   "metadata": {},
   "outputs": [],
   "source": [
    "s[0]\n",
    "s[1]\n",
    "s[2]\n",
    "s[3]"
   ]
  },
  {
   "cell_type": "code",
   "execution_count": 74,
   "id": "30a2b6a7-a6a0-4a4c-b99d-076abc792df4",
   "metadata": {},
   "outputs": [
    {
     "name": "stdout",
     "output_type": "stream",
     "text": [
      "a\n",
      "b\n",
      "c\n",
      "d\n"
     ]
    }
   ],
   "source": [
    "i=0\n",
    "while(i < len(s)):\n",
    "    print(s[i])\n",
    "    i=i+1"
   ]
  },
  {
   "cell_type": "code",
   "execution_count": 77,
   "id": "ff70470d-8838-4347-bf7f-53a65a515eb5",
   "metadata": {},
   "outputs": [
    {
     "name": "stdin",
     "output_type": "stream",
     "text": [
      "Enter a username: root\n"
     ]
    },
    {
     "name": "stdout",
     "output_type": "stream",
     "text": [
      "Success\n"
     ]
    },
    {
     "name": "stdin",
     "output_type": "stream",
     "text": [
      "Enter a username: root\n"
     ]
    },
    {
     "name": "stdout",
     "output_type": "stream",
     "text": [
      "Success\n"
     ]
    },
    {
     "name": "stdin",
     "output_type": "stream",
     "text": [
      "Enter a username: root\n"
     ]
    },
    {
     "name": "stdout",
     "output_type": "stream",
     "text": [
      "Success\n"
     ]
    }
   ],
   "source": [
    "# 1. Read a username from keyboard\n",
    "# 2. test input user name is root (or) not\n",
    "# 3.                          |         |\n",
    "\n",
    "i=0\n",
    "while(i < 3):\n",
    "    name = input('Enter a username:')\n",
    "    if(name == 'root'):\n",
    "        print('Success')\n",
    "    else:\n",
    "        print('Sorry your not root user')\n",
    "    i=i+1"
   ]
  },
  {
   "cell_type": "code",
   "execution_count": 77,
   "id": "c2555249-1105-4c22-90dd-c929ac783959",
   "metadata": {},
   "outputs": [
    {
     "name": "stdin",
     "output_type": "stream",
     "text": [
      "Enter a username: root\n"
     ]
    },
    {
     "name": "stdout",
     "output_type": "stream",
     "text": [
      "Success\n"
     ]
    },
    {
     "name": "stdin",
     "output_type": "stream",
     "text": [
      "Enter a username: root\n"
     ]
    },
    {
     "name": "stdout",
     "output_type": "stream",
     "text": [
      "Success\n"
     ]
    },
    {
     "name": "stdin",
     "output_type": "stream",
     "text": [
      "Enter a username: root\n"
     ]
    },
    {
     "name": "stdout",
     "output_type": "stream",
     "text": [
      "Success\n"
     ]
    }
   ],
   "source": [
    "# 1. Read a username from keyboard\n",
    "# 2. test input user name is root (or) not\n",
    "# 3.                          |         |\n",
    "\n",
    "i=0\n",
    "while(i < 3):\n",
    "    name = input('Enter a username:')\n",
    "    if(name == 'root'):\n",
    "        print('Success')\n",
    "    else:\n",
    "        print('Sorry your not root user')\n",
    "    i=i+1"
   ]
  },
  {
   "cell_type": "code",
   "execution_count": 79,
   "id": "319db281-af78-4293-90f6-80f97126547e",
   "metadata": {},
   "outputs": [
    {
     "name": "stdin",
     "output_type": "stream",
     "text": [
      "Enter a username: userA\n"
     ]
    },
    {
     "name": "stdout",
     "output_type": "stream",
     "text": [
      "Sorry your not root user\n"
     ]
    },
    {
     "name": "stdin",
     "output_type": "stream",
     "text": [
      "Enter a username: root\n"
     ]
    },
    {
     "name": "stdout",
     "output_type": "stream",
     "text": [
      "Success\n"
     ]
    }
   ],
   "source": [
    "# 1. Read a username from keyboard\n",
    "# 2. test input user name is root (or) not\n",
    "# 3.                          |         |\n",
    "\n",
    "i=0\n",
    "while(i < 3):\n",
    "    name = input('Enter a username:')\n",
    "    if(name == 'root'):\n",
    "        print('Success')\n",
    "        break # exit from loop\n",
    "    else:\n",
    "        print('Sorry your not root user')\n",
    "    i=i+1"
   ]
  },
  {
   "cell_type": "code",
   "execution_count": 80,
   "id": "0a208782-1994-483c-abb9-93a64beac64c",
   "metadata": {},
   "outputs": [
    {
     "name": "stdout",
     "output_type": "stream",
     "text": [
      "app1\n",
      "app2\n"
     ]
    }
   ],
   "source": [
    "for var in ['app1','app2','app3','app4','app5']:\n",
    "    if(var == 'app3'):\n",
    "        break\n",
    "    else:\n",
    "        print(var)"
   ]
  },
  {
   "cell_type": "code",
   "execution_count": 81,
   "id": "b6d4dc3e-5581-4601-ab0f-135ca2b06d7b",
   "metadata": {},
   "outputs": [
    {
     "name": "stdout",
     "output_type": "stream",
     "text": [
      "app1\n",
      "app2\n",
      "app4\n",
      "app5\n"
     ]
    }
   ],
   "source": [
    "for var in ['app1','app2','app3','app4','app5']:\n",
    "    if(var == 'app3'):\n",
    "        continue\n",
    "    else:\n",
    "        print(var)"
   ]
  },
  {
   "cell_type": "code",
   "execution_count": 83,
   "id": "9de574c3-746b-4cb2-803f-0e3cd872dab9",
   "metadata": {},
   "outputs": [
    {
     "name": "stdin",
     "output_type": "stream",
     "text": [
      "Enter a pinNumber: 1234\n"
     ]
    },
    {
     "name": "stdout",
     "output_type": "stream",
     "text": [
      "Success pin is matched - 1\n"
     ]
    }
   ],
   "source": [
    "pin = 1234\n",
    "count = 0\n",
    "\n",
    "while(count < 3):\n",
    "    count = count + 1\n",
    "    p = input('Enter a pinNumber:')\n",
    "    if(int(p) == pin):\n",
    "        print(f'Success pin is matched - {count}')\n",
    "        break\n",
    "\n",
    "if(int(p) != pin):\n",
    "    print(f'Sorry your pin is blocked')"
   ]
  },
  {
   "cell_type": "code",
   "execution_count": 84,
   "id": "5903634d-bd44-424c-bdc9-6df39a47da93",
   "metadata": {},
   "outputs": [
    {
     "name": "stdin",
     "output_type": "stream",
     "text": [
      "Enter a pinNumber: 12333\n",
      "Enter a pinNumber: 1234\n"
     ]
    },
    {
     "name": "stdout",
     "output_type": "stream",
     "text": [
      "Success pin is matched - 2\n"
     ]
    }
   ],
   "source": [
    "pin = 1234\n",
    "count = 0\n",
    "\n",
    "while(count < 3):\n",
    "    count = count + 1\n",
    "    p = input('Enter a pinNumber:')\n",
    "    if(int(p) == pin):\n",
    "        print(f'Success pin is matched - {count}')\n",
    "        break\n",
    "\n",
    "if(int(p) != pin):\n",
    "    print(f'Sorry your pin is blocked')"
   ]
  },
  {
   "cell_type": "code",
   "execution_count": null,
   "id": "df7113a4-a6f1-435c-bdeb-5f3d0b820c15",
   "metadata": {},
   "outputs": [],
   "source": []
  },
  {
   "cell_type": "code",
   "execution_count": 85,
   "id": "d4df291e-baef-4964-af8b-ff96e4a61d8e",
   "metadata": {},
   "outputs": [
    {
     "name": "stdin",
     "output_type": "stream",
     "text": [
      "Enter a pinNumber: 1232\n",
      "Enter a pinNumber: 1245\n",
      "Enter a pinNumber: 1234\n"
     ]
    },
    {
     "name": "stdout",
     "output_type": "stream",
     "text": [
      "Success pin is matched - 3\n"
     ]
    }
   ],
   "source": [
    "pin = 1234\n",
    "count = 0\n",
    "\n",
    "while(count < 3):\n",
    "    count = count + 1\n",
    "    p = input('Enter a pinNumber:')\n",
    "    if(int(p) == pin):\n",
    "        print(f'Success pin is matched - {count}')\n",
    "        break\n",
    "\n",
    "if(int(p) != pin):\n",
    "    print(f'Sorry your pin is blocked')"
   ]
  },
  {
   "cell_type": "code",
   "execution_count": 86,
   "id": "3acfa677-e1dd-46d1-bfc0-9c65070909a5",
   "metadata": {},
   "outputs": [
    {
     "name": "stdin",
     "output_type": "stream",
     "text": [
      "Enter a pinNumber: 12331231\n",
      "Enter a pinNumber: 312123\n",
      "Enter a pinNumber: 123123\n"
     ]
    },
    {
     "name": "stdout",
     "output_type": "stream",
     "text": [
      "Sorry your pin is blocked\n"
     ]
    }
   ],
   "source": [
    "pin = 1234\n",
    "count = 0\n",
    "\n",
    "while(count < 3):\n",
    "    count = count + 1\n",
    "    p = input('Enter a pinNumber:')\n",
    "    if(int(p) == pin):\n",
    "        print(f'Success pin is matched - {count}')\n",
    "        break\n",
    "\n",
    "if(int(p) != pin):\n",
    "    print(f'Sorry your pin is blocked')"
   ]
  },
  {
   "cell_type": "code",
   "execution_count": 87,
   "id": "4ded4f14-45e2-46fd-8b30-a55e5864d4c5",
   "metadata": {},
   "outputs": [
    {
     "name": "stdout",
     "output_type": "stream",
     "text": [
      "No.of items:0\n"
     ]
    },
    {
     "name": "stdin",
     "output_type": "stream",
     "text": [
      "Enter a hostname: host01\n",
      "Enter a hostname: host02\n",
      "Enter a hostname: host03\n",
      "Enter a hostname: host04\n",
      "Enter a hostname: host05\n"
     ]
    },
    {
     "name": "stdout",
     "output_type": "stream",
     "text": [
      "---------------\n",
      "List of input hosts:\n",
      "---------------\n",
      "host01\n",
      "host02\n",
      "host03\n",
      "host04\n",
      "host05\n",
      "\n",
      "No.of items:5\n"
     ]
    }
   ],
   "source": [
    "'''create an empty list\n",
    "   use len() - display number of items\n",
    "   use while loop  5 times  \n",
    "        To read a hostname from <STDIN>\n",
    "        To add a input hostname to existing list\n",
    "    using for loop, display list of elements \n",
    "    display number of items'''\n",
    "\n",
    "hosts = []\n",
    "print(f'No.of items:{len(hosts)}')\n",
    "\n",
    "c=0\n",
    "while(c < 5):\n",
    "    h = input('Enter a hostname:')\n",
    "    hosts.append(h)\n",
    "    c=c+1\n",
    "    \n",
    "print('-'*15)\n",
    "print('List of input hosts:')\n",
    "print('-'*15)\n",
    "for var in hosts:\n",
    "    print(var)\n",
    "\n",
    "print('')\n",
    "print(f'No.of items:{len(hosts)}')"
   ]
  },
  {
   "cell_type": "code",
   "execution_count": null,
   "id": "f7466127-709d-427f-b927-3baf500bf277",
   "metadata": {},
   "outputs": [],
   "source": []
  }
 ],
 "metadata": {
  "kernelspec": {
   "display_name": "Python 3 (ipykernel)",
   "language": "python",
   "name": "python3"
  },
  "language_info": {
   "codemirror_mode": {
    "name": "ipython",
    "version": 3
   },
   "file_extension": ".py",
   "mimetype": "text/x-python",
   "name": "python",
   "nbconvert_exporter": "python",
   "pygments_lexer": "ipython3",
   "version": "3.13.5"
  }
 },
 "nbformat": 4,
 "nbformat_minor": 5
}
