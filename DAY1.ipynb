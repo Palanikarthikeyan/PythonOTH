{
 "cells": [
  {
   "cell_type": "code",
   "execution_count": 1,
   "id": "05cb7c4d-37ee-43d4-9d7d-5e536bcaafcb",
   "metadata": {},
   "outputs": [
    {
     "name": "stdout",
     "output_type": "stream",
     "text": [
      "Welcome to python program\n"
     ]
    }
   ],
   "source": [
    "print(\"Welcome to python program\")"
   ]
  },
  {
   "cell_type": "raw",
   "id": "2c45649f-762a-4a8f-b858-25e56fd9a042",
   "metadata": {},
   "source": [
    "1. Understand the topic definition \n",
    "   what is <topicName> (ex:  what is variable ?)\n",
    "\n",
    "2. Understand the topic syntax - rules\n",
    "\n",
    "3. Refer an existing examples \n",
    "|\n",
    "4. Activity "
   ]
  },
  {
   "cell_type": "code",
   "execution_count": null,
   "id": "8271b8f9-0dd8-443b-b411-a6f146b88ad4",
   "metadata": {},
   "outputs": [],
   "source": [
    "Python native types\n",
    "======================\n",
    "int float complex\n",
    "bool \n",
    "NoneType\n",
    "Collection \n",
    "-------------\n",
    "    |-> Sequential - str bytes list tuple \n",
    "    |-> Mapping    - dict set \n",
    "\n",
    "python operators \n",
    "python conditional statements\n",
    "python looping statements\n",
    "|\n",
    "FileHandling => Function"
   ]
  },
  {
   "cell_type": "code",
   "execution_count": 2,
   "id": "001ef79b-add0-4fdb-92f2-1d766e332196",
   "metadata": {},
   "outputs": [
    {
     "name": "stdout",
     "output_type": "stream",
     "text": [
      "test code1\n",
      "\n",
      "30\n"
     ]
    }
   ],
   "source": [
    "# single line comment\n",
    "print(\"test code1\") # display the result to monitor\n",
    "print('') # empty line\n",
    "# print(\"OK-1\")\n",
    "print(10+20) # simple arithmetic operation"
   ]
  },
  {
   "cell_type": "code",
   "execution_count": 3,
   "id": "b9dce310-a9e6-44c5-a087-cfbfab231bee",
   "metadata": {},
   "outputs": [
    {
     "name": "stdout",
     "output_type": "stream",
     "text": [
      "10\n",
      "10.0\n",
      "30\n",
      "30.0\n"
     ]
    }
   ],
   "source": [
    "print(10)\n",
    "print(10.0)\n",
    "print(10+20)\n",
    "print(10+20.0)"
   ]
  },
  {
   "cell_type": "code",
   "execution_count": 4,
   "id": "08aed9f0-fd09-43f2-b901-62601b3147bc",
   "metadata": {},
   "outputs": [
    {
     "name": "stdout",
     "output_type": "stream",
     "text": [
      "True\n"
     ]
    }
   ],
   "source": [
    "print(10 >5)"
   ]
  },
  {
   "cell_type": "code",
   "execution_count": 5,
   "id": "df34a0ca-65f4-40ba-bad1-d92195f87b32",
   "metadata": {},
   "outputs": [
    {
     "name": "stdout",
     "output_type": "stream",
     "text": [
      "False\n"
     ]
    }
   ],
   "source": [
    "print(10<5)"
   ]
  },
  {
   "cell_type": "code",
   "execution_count": 6,
   "id": "fbc7e7cd-5063-49ee-8d09-ab8a19a6e9c7",
   "metadata": {},
   "outputs": [
    {
     "name": "stdout",
     "output_type": "stream",
     "text": [
      "productName is:pA\n",
      "product cost is:1500\n",
      "product pA id is:101\n",
      "True\n"
     ]
    }
   ],
   "source": [
    "'''Write a python program\n",
    "display productName\n",
    "display pid\n",
    "display productcost\n",
    "test productcost above 1000'''\n",
    "\n",
    "print('productName is:pA')\n",
    "print('product cost is:1500')\n",
    "print('product pA id is:101')\n",
    "print(1500 >1000)"
   ]
  },
  {
   "cell_type": "code",
   "execution_count": 7,
   "id": "4ee6d728-2f33-4739-a8ab-245494a8829c",
   "metadata": {},
   "outputs": [],
   "source": [
    "# variable - placeholder (or) label - holding (or) mapping an existing value\n",
    "\n",
    "# variableName = value  <== initialization\n",
    "# |__ starts with a-zA-Z_  not starts with digit ( 5var=10 - Error )\n",
    "# |__ not allows space ; specialchars  (ex: $var=10 - Error  my dept='sales' - Error)\n",
    "\n",
    "mydept = 'sales'\n",
    "v5 = 120 # 5v=120 - Error \n",
    "MYDEPT = 'production'\n",
    "First_last_name='Mr.Raj Kumar paul' # OK"
   ]
  },
  {
   "cell_type": "code",
   "execution_count": 10,
   "id": "62613b08-567b-4931-bc93-4cba4ab50565",
   "metadata": {},
   "outputs": [
    {
     "name": "stdout",
     "output_type": "stream",
     "text": [
      "sales\n",
      "mydept\n"
     ]
    }
   ],
   "source": [
    "print(mydept)\n",
    "# Vs\n",
    "print(\"mydept\")"
   ]
  },
  {
   "cell_type": "code",
   "execution_count": 9,
   "id": "be1e193b-33ee-4627-9b71-133ad81d7ab9",
   "metadata": {},
   "outputs": [
    {
     "name": "stdout",
     "output_type": "stream",
     "text": [
      "production\n"
     ]
    }
   ],
   "source": [
    "print(MYDEPT)"
   ]
  },
  {
   "cell_type": "code",
   "execution_count": 11,
   "id": "1d38d490-39eb-4170-87c5-368e4ae66f71",
   "metadata": {},
   "outputs": [
    {
     "name": "stdout",
     "output_type": "stream",
     "text": [
      "My working dept is:mydept\n"
     ]
    }
   ],
   "source": [
    "mydept='sales'\n",
    "print('My working dept is:mydept')"
   ]
  },
  {
   "cell_type": "code",
   "execution_count": 14,
   "id": "e616e9e7-f572-4167-b306-833193449e6d",
   "metadata": {},
   "outputs": [
    {
     "name": "stdout",
     "output_type": "stream",
     "text": [
      "My working dept is: sales\n"
     ]
    }
   ],
   "source": [
    "print('My working dept is:',mydept)"
   ]
  },
  {
   "cell_type": "code",
   "execution_count": 15,
   "id": "a24f50ea-a0c5-4e92-8190-d06645478cfc",
   "metadata": {},
   "outputs": [
    {
     "name": "stdout",
     "output_type": "stream",
     "text": [
      "productName is: pA\n",
      "pA cost is: 1235.26\n",
      "pA ID is: 101\n",
      "True\n"
     ]
    }
   ],
   "source": [
    "'''Write a python program\n",
    "initialize product ID,productName,productCost to individual variable\n",
    "display product details,test product cost is above 1000 or not'''\n",
    "\n",
    "pid = 101  # pid='A101' \n",
    "pname = 'pA'\n",
    "pcost = 1235.26   # pcost = '1235.26Rs'\n",
    "print('productName is:',pname)\n",
    "print(pname,'cost is:',pcost)\n",
    "print(pname,'ID is:',pid)\n",
    "print(pcost >1000)"
   ]
  },
  {
   "cell_type": "code",
   "execution_count": 16,
   "id": "2c0afc85-6c7d-4b64-955a-5d0738cc4aac",
   "metadata": {},
   "outputs": [
    {
     "name": "stdout",
     "output_type": "stream",
     "text": [
      "n value is: 56\n",
      "n value is:56\n",
      "n value is:56\n",
      "n value is:56\n"
     ]
    }
   ],
   "source": [
    "n=56\n",
    "print(\"n value is:\",n)  # 1st style\n",
    "\n",
    "print(\"n value is:%d\"%(n)) # 2n style   %d -int  %f float %s string \n",
    "\n",
    "print(\"n value is:{}\".format(n)) # 3rd style\n",
    "\n",
    "print(f\"n value is:{n}\") # 4th style"
   ]
  },
  {
   "cell_type": "code",
   "execution_count": 18,
   "id": "d7ed7977-e2ac-45ac-84f9-bdf4e8406872",
   "metadata": {},
   "outputs": [
    {
     "name": "stdout",
     "output_type": "stream",
     "text": [
      "productName is:pB\n",
      "pB cost is:590.42\n",
      "pB ID is:102\n",
      "False\n"
     ]
    }
   ],
   "source": [
    "'''Write a python program\n",
    "initialize product ID,productName,productCost to individual variable\n",
    "display product details,test product cost is above 1000 or not'''\n",
    "\n",
    "pid = 102   \n",
    "pname = 'pB'\n",
    "pcost = 590.42   # pcost = '1235.26Rs'\n",
    "print(f'productName is:{pname}')\n",
    "print(f'{pname} cost is:{pcost}')\n",
    "print(f'{pname} ID is:{pid}')\n",
    "print(pcost >1000)"
   ]
  },
  {
   "cell_type": "code",
   "execution_count": 19,
   "id": "ae364d5a-dbc2-4f87-850c-be5ba14bcf9f",
   "metadata": {},
   "outputs": [
    {
     "name": "stdout",
     "output_type": "stream",
     "text": [
      "statement1\n",
      "statement2\n",
      "statement3\n",
      "statement4\n"
     ]
    }
   ],
   "source": [
    "# Multiline string\n",
    "\n",
    "print('''statement1\n",
    "statement2\n",
    "statement3\n",
    "statement4''')"
   ]
  },
  {
   "cell_type": "code",
   "execution_count": 23,
   "id": "91945bfc-978a-4698-9fe0-2b37305abb66",
   "metadata": {},
   "outputs": [
    {
     "name": "stdout",
     "output_type": "stream",
     "text": [
      "productName is:pB\n",
      "pB cost is:590.42\n",
      "pB ID is:102\n",
      "False\n"
     ]
    }
   ],
   "source": [
    "'''Write a python program\n",
    "initialize product ID,productName,productCost to individual variable\n",
    "display product details,test product cost is above 1000 or not'''\n",
    "\n",
    "pid = 102   \n",
    "pname = 'pB'\n",
    "pcost = 590.42   # pcost = '1235.26Rs'\n",
    "\n",
    "print(f'''productName is:{pname}\n",
    "{pname} cost is:{pcost}\n",
    "{pname} ID is:{pid}''')\n",
    "\n",
    "print(pcost > 1000)"
   ]
  },
  {
   "cell_type": "code",
   "execution_count": 25,
   "id": "b3483c83-9e0b-4201-b362-769ce1bc4fe3",
   "metadata": {},
   "outputs": [
    {
     "name": "stdin",
     "output_type": "stream",
     "text": [
      "Enter an emp name: anu\n"
     ]
    },
    {
     "name": "stdout",
     "output_type": "stream",
     "text": [
      "Emp name is:anu\n"
     ]
    }
   ],
   "source": [
    "# input() - interface to keyboard\n",
    "\n",
    "#  variable = input('user defined string')\n",
    "\n",
    "emp_name = input('Enter an emp name:')\n",
    "\n",
    "print(f'Emp name is:{emp_name}')"
   ]
  },
  {
   "cell_type": "code",
   "execution_count": 26,
   "id": "170cfa7a-1309-473f-b023-646685a0b6e4",
   "metadata": {},
   "outputs": [
    {
     "name": "stdin",
     "output_type": "stream",
     "text": [
      "Enter an emp name: anu\n",
      "Enter anu working dept: HR\n"
     ]
    },
    {
     "name": "stdout",
     "output_type": "stream",
     "text": [
      "Emp name is:anu working dept is:HR\n"
     ]
    }
   ],
   "source": [
    "emp_name = input('Enter an emp name:')\n",
    "emp_dept = input(f'Enter {emp_name} working dept:')\n",
    "print(f'Emp name is:{emp_name} working dept is:{emp_dept}')"
   ]
  },
  {
   "cell_type": "code",
   "execution_count": 28,
   "id": "a98c1511-5013-4605-82a0-65b48943aa0b",
   "metadata": {},
   "outputs": [
    {
     "name": "stdin",
     "output_type": "stream",
     "text": [
      "Enter a product name: HardDisk\n",
      "Enter HardDisk ID: HD1\n",
      "Enter HardDisk price: 5000\n"
     ]
    },
    {
     "name": "stdout",
     "output_type": "stream",
     "text": [
      "productName is:HardDisk\n",
      "HardDisk cost is:5000\n",
      "HardDisk ID is:HD1\n"
     ]
    }
   ],
   "source": [
    "pname = input('Enter a product name:')\n",
    "pid = input(f'Enter {pname} ID:')\n",
    "pcost = input(f'Enter {pname} price:')\n",
    "\n",
    "print(f'''productName is:{pname}\n",
    "{pname} cost is:{pcost}\n",
    "{pname} ID is:{pid}''')\n",
    "\n",
    "#print(pcost > 1000)\n"
   ]
  },
  {
   "cell_type": "code",
   "execution_count": 2,
   "id": "fac79248-be7f-4797-b46a-bc16970606be",
   "metadata": {},
   "outputs": [
    {
     "name": "stdin",
     "output_type": "stream",
     "text": [
      "Enter a product name: CDROM\n",
      "Enter CDROM ID: CD123\n",
      "Enter CDROM price: 1250\n"
     ]
    },
    {
     "name": "stdout",
     "output_type": "stream",
     "text": [
      "productName is:CDROM\n",
      "CDROM cost is:1250\n",
      "CDROM ID is:CD123\n",
      "True\n"
     ]
    }
   ],
   "source": [
    "pname = input('Enter a product name:')\n",
    "pid = input(f'Enter {pname} ID:')\n",
    "pcost = input(f'Enter {pname} price:')\n",
    "\n",
    "print(f'''productName is:{pname}\n",
    "{pname} cost is:{pcost}\n",
    "{pname} ID is:{pid}''')\n",
    "\n",
    "print(int(pcost) > 1000)\n"
   ]
  },
  {
   "cell_type": "code",
   "execution_count": null,
   "id": "ba9e5f46-74bb-4587-9e17-4a9f2574e1a8",
   "metadata": {},
   "outputs": [],
   "source": [
    "Write a python program\n",
    "read an emp name,emp ID,emp working dept,working place and emp basic pay\n",
    "calculate 18% of basic pay and initialize calculated results to new variable\n",
    "|\n",
    "display - emp details line by line \n",
    "\n",
    "Expected Result\n",
    "-----------------\n",
    "Emp name is: Arun\n",
    "---------------------\n",
    "Arun emp id: 1234\n",
    "----------------------\n",
    "Arun working department is:sales\n",
    "--------------------------------\n",
    "Arun working place is:Pune\n",
    "--------------------------\n",
    "Basic pay: 1000\n",
    "----------------\n",
    "18% of cost: 180\n",
    "-----------------\n",
    "Total Cost: 1180\n",
    "-------------------------------------//use single print() "
   ]
  },
  {
   "cell_type": "code",
   "execution_count": 4,
   "id": "4cf2351d-90cd-42ea-a5bb-b4ac9d7a1448",
   "metadata": {},
   "outputs": [
    {
     "name": "stdin",
     "output_type": "stream",
     "text": [
      "Enter an Emp name: Raj\n",
      "Enter Raj emp ID: 1234\n",
      "Enter Raj working dept: Sales\n",
      "Enter Raj working city: Bangalore\n",
      "Enter Raj basic pay: 1200\n"
     ]
    },
    {
     "name": "stdout",
     "output_type": "stream",
     "text": [
      "Emp name is:Raj\n",
      "--------------------------------\n",
      "Raj Emp id:1234  Working department is:Sales\n",
      "----------------------------------------------------------\n",
      "Raj Working city is:Bangalore Basic Pay is:1200\n",
      "-----------------------------------------------------------\n",
      "Including tax:1416.0\n",
      "-----------------------\n"
     ]
    }
   ],
   "source": [
    "ename = input('Enter an Emp name:')\n",
    "empid = input(f'Enter {ename} emp ID:')\n",
    "empdept = input(f'Enter {ename} working dept:')\n",
    "eplace = input(f'Enter {ename} working city:')\n",
    "ecost = input(f'Enter {ename} basic pay:')\n",
    "\n",
    "tax = float(ecost) * 0.18\n",
    "gs = float(ecost)+tax\n",
    "\n",
    "print(f'''Emp name is:{ename}\n",
    "--------------------------------\n",
    "{ename} Emp id:{empid}  Working department is:{empdept}\n",
    "----------------------------------------------------------\n",
    "{ename} Working city is:{eplace} Basic Pay is:{ecost}\n",
    "-----------------------------------------------------------\n",
    "Including tax:{gs}\n",
    "-----------------------''')"
   ]
  },
  {
   "cell_type": "code",
   "execution_count": null,
   "id": "9853eb2d-4758-40c4-9996-96edc8141063",
   "metadata": {},
   "outputs": [],
   "source": [
    "int float str bool(True False) ....\n",
    "How to determine python type ?\n",
    " type(value)"
   ]
  },
  {
   "cell_type": "code",
   "execution_count": 5,
   "id": "67be415c-907a-47a7-838d-56908be89a8d",
   "metadata": {},
   "outputs": [
    {
     "name": "stdout",
     "output_type": "stream",
     "text": [
      "<class 'int'> <class 'float'> <class 'str'> <class 'bool'> <class 'bool'>\n"
     ]
    }
   ],
   "source": [
    "print(type(10),type(10.0),type(''),type(True),type(False))"
   ]
  },
  {
   "cell_type": "code",
   "execution_count": 6,
   "id": "5bc14993-9d96-4b7b-af89-0425f753d254",
   "metadata": {},
   "outputs": [
    {
     "name": "stdout",
     "output_type": "stream",
     "text": [
      "<class 'int'>\n"
     ]
    }
   ],
   "source": [
    "var = 120\n",
    "print(type(var))"
   ]
  },
  {
   "cell_type": "code",
   "execution_count": null,
   "id": "a9075eac-19f3-4903-9f88-d29d71a8f6b9",
   "metadata": {},
   "outputs": [],
   "source": [
    "list   -  Collection of different types of value - index based - mutable (we can add/modify/delete)\n",
    " []\n",
    "\n",
    "tuple  -  Collection of different types of value - index based - immutable\n",
    " ()\n",
    "\n",
    "dict   - -  Collection of different types of value - key:value - mutable( we can add/modify/delete)\n",
    " {}"
   ]
  },
  {
   "cell_type": "code",
   "execution_count": 7,
   "id": "7b59570b-2223-4aac-a3c2-92c08007a523",
   "metadata": {},
   "outputs": [
    {
     "name": "stdout",
     "output_type": "stream",
     "text": [
      "<class 'list'>\n"
     ]
    }
   ],
   "source": [
    "print(type([]))"
   ]
  },
  {
   "cell_type": "code",
   "execution_count": 8,
   "id": "6600babc-c8c3-4ce1-9382-138e2b72d510",
   "metadata": {},
   "outputs": [
    {
     "name": "stdout",
     "output_type": "stream",
     "text": [
      "['Raj', 1234, True, 4589.23]\n",
      "Raj\n",
      "1234 4589.23\n",
      "Emp name is:Raj\n"
     ]
    }
   ],
   "source": [
    "# ListName = [<list of items>] \n",
    "\n",
    "emp = ['Raj',1234,True,4589.23]\n",
    "     #   0  |  1 |  2 |  3  <== index\n",
    "     #  -4    -3   -2   -1  <== index\n",
    "\n",
    "# To get/fetch nth index value \n",
    "# ListName[index] -> Value /IndexError \n",
    "\n",
    "print(emp)\n",
    "print(emp[0])\n",
    "print(emp[1],emp[3])\n",
    "print(f'Emp name is:{emp[0]}')"
   ]
  },
  {
   "cell_type": "code",
   "execution_count": 9,
   "id": "75c1f148-35cc-4094-9c9d-fc32b62a5db6",
   "metadata": {},
   "outputs": [
    {
     "name": "stdout",
     "output_type": "stream",
     "text": [
      "4589.23\n",
      "4589.23\n"
     ]
    }
   ],
   "source": [
    "print(emp[3])\n",
    "print(emp[-1])"
   ]
  },
  {
   "cell_type": "code",
   "execution_count": 10,
   "id": "a6eaf8f7-10c8-46ee-b730-50f16276d354",
   "metadata": {},
   "outputs": [
    {
     "name": "stdout",
     "output_type": "stream",
     "text": [
      "['D1', 'D2', 10, 2.45, True]\n",
      "5\n"
     ]
    }
   ],
   "source": [
    "L=['D1','D2',10,2.45,True]\n",
    "print(L)\n",
    "\n",
    "# len(inputList) ->output_int\n",
    "\n",
    "print(len(L))"
   ]
  },
  {
   "cell_type": "code",
   "execution_count": 11,
   "id": "18961f8c-91b4-4b2f-8df9-87b59a8dace6",
   "metadata": {},
   "outputs": [
    {
     "name": "stdout",
     "output_type": "stream",
     "text": [
      "0\n"
     ]
    }
   ],
   "source": [
    "L=[]\n",
    "print(len(L))"
   ]
  },
  {
   "cell_type": "code",
   "execution_count": 12,
   "id": "259db2e5-d145-4a4b-86a1-39d3cd9564cf",
   "metadata": {},
   "outputs": [
    {
     "name": "stdout",
     "output_type": "stream",
     "text": [
      "['D1', 'D2', 10, 2.45, True]\n",
      "D2\n",
      "\n",
      "['D1', 4590.23, 10, 2.45, True]\n",
      "4590.23\n"
     ]
    }
   ],
   "source": [
    "L=['D1','D2',10,2.45,True]\n",
    "# How to modify an existing value from list\n",
    "#  listName[oldIndex] = value\n",
    "print(L)\n",
    "print(L[1])\n",
    "L[1] = 4590.23 # we can modify an exising value - list is mutable \n",
    "print('') # empty line\n",
    "print(L)\n",
    "print(L[1])"
   ]
  },
  {
   "cell_type": "code",
   "execution_count": null,
   "id": "8cc762b6-c7fc-4ab5-aeda-de42a4e3a9bc",
   "metadata": {},
   "outputs": [],
   "source": [
    "# To add new data to an existing list\n",
    "#\n",
    "# Listname.append()  =>   Listname.append(Value) ->None\n",
    "#   Vs\n",
    "# Listname.insert(index,Value) ->None"
   ]
  },
  {
   "cell_type": "code",
   "execution_count": 13,
   "id": "c6ef6adb-8e40-43e0-871e-64b6c95f60b8",
   "metadata": {},
   "outputs": [
    {
     "name": "stdout",
     "output_type": "stream",
     "text": [
      "No.of dept:3\n",
      "['sales', 'DBA', 'crm']\n",
      "\n",
      "No.of dept:5\n",
      "['sales', 'DBA', 'crm', 'QA', 'Devops']\n"
     ]
    }
   ],
   "source": [
    "dept = ['sales','DBA','crm']\n",
    "print(f'No.of dept:{len(dept)}')\n",
    "print(dept)\n",
    "print('')\n",
    "\n",
    "dept.append('QA') # adding new value - at the end of the list \n",
    "dept.append('Devops') # adding new value - at the end of the list\n",
    "print(f'No.of dept:{len(dept)}')\n",
    "print(dept)"
   ]
  },
  {
   "cell_type": "code",
   "execution_count": 14,
   "id": "d756c65a-251d-410a-bc98-8bfb2ab16a08",
   "metadata": {},
   "outputs": [
    {
     "name": "stdout",
     "output_type": "stream",
     "text": [
      "['sales', 'DBA', 'crm', 'QA', 'Devops']\n",
      "['sales', 'AI', 'DBA', 'crm', 'QA', 'Devops']\n"
     ]
    }
   ],
   "source": [
    "print(dept)\n",
    "\n",
    "dept.insert(1,'AI') # adding new value at the 1st index \n",
    "print(dept)"
   ]
  },
  {
   "cell_type": "code",
   "execution_count": null,
   "id": "ee7bab43-82e9-460d-845f-7f689bc2c7a7",
   "metadata": {},
   "outputs": [],
   "source": [
    "# create an empty list name is called products\n",
    "# use len() - display number of products - 0\n",
    "# use append() - add few products into an existing list\n",
    "# use len() - display number of products\n",
    "|\n",
    "# modify 1st index product value => prodAB\n",
    "# display updated product list"
   ]
  },
  {
   "cell_type": "code",
   "execution_count": 16,
   "id": "8232e53b-ea39-4b62-a4ab-0de986dacbc5",
   "metadata": {},
   "outputs": [
    {
     "name": "stdout",
     "output_type": "stream",
     "text": [
      "No.of products:0\n",
      "No.of products:4\n",
      "['prodX', 'prodY', 'prodZ', 'prodA']\n"
     ]
    }
   ],
   "source": [
    "products = [] \n",
    "print(f'No.of products:{len(products)}')\n",
    "\n",
    "products.append('prodX')\n",
    "products.append('prodY')\n",
    "products.append('prodZ')\n",
    "products.append('prodA')\n",
    "print(f'No.of products:{len(products)}')\n",
    "print(products)"
   ]
  },
  {
   "cell_type": "code",
   "execution_count": 17,
   "id": "97e8be15-742d-42a3-945f-805bef35b798",
   "metadata": {},
   "outputs": [],
   "source": [
    "products[1] = 'prodAB' # modification"
   ]
  },
  {
   "cell_type": "code",
   "execution_count": 18,
   "id": "2f1da9a6-a9e2-40e0-8a04-e85416e310c6",
   "metadata": {},
   "outputs": [
    {
     "name": "stdout",
     "output_type": "stream",
     "text": [
      "['prodX', 'prodAB', 'prodZ', 'prodA']\n"
     ]
    }
   ],
   "source": [
    "print(products)"
   ]
  },
  {
   "cell_type": "code",
   "execution_count": null,
   "id": "2729222c-d0d9-42bc-8921-2e993142a647",
   "metadata": {},
   "outputs": [],
   "source": [
    "# To remove nth index item from given list\n",
    "\n",
    "Listname.pop() # default - remove last index value  -> return removedValue\n",
    "(or)\n",
    "Listname.pop(index) - remove nth index value ->return removedValue"
   ]
  },
  {
   "cell_type": "code",
   "execution_count": 19,
   "id": "2365547f-daa9-47b1-8b54-a0af4de948a9",
   "metadata": {},
   "outputs": [
    {
     "name": "stdout",
     "output_type": "stream",
     "text": [
      "10\n"
     ]
    },
    {
     "data": {
      "text/plain": [
       "50"
      ]
     },
     "execution_count": 19,
     "metadata": {},
     "output_type": "execute_result"
    }
   ],
   "source": [
    "L=['D1','D2','D3','D4','D5',10,20,30,40,50]\n",
    "print(len(L))\n",
    "L.pop()"
   ]
  },
  {
   "cell_type": "code",
   "execution_count": 20,
   "id": "66cd6209-2374-4684-bf87-3897a9099b68",
   "metadata": {},
   "outputs": [
    {
     "name": "stdout",
     "output_type": "stream",
     "text": [
      "10\n",
      "9\n"
     ]
    }
   ],
   "source": [
    "L=['D1','D2','D3','D4','D5',10,20,30,40,50]\n",
    "print(len(L))\n",
    "removed_value = L.pop()\n",
    "print(len(L))"
   ]
  },
  {
   "cell_type": "code",
   "execution_count": 21,
   "id": "3ad1363a-0986-4af3-9619-850d85d4e5b9",
   "metadata": {},
   "outputs": [
    {
     "name": "stdout",
     "output_type": "stream",
     "text": [
      "50\n"
     ]
    }
   ],
   "source": [
    "print(removed_value)"
   ]
  },
  {
   "cell_type": "code",
   "execution_count": 22,
   "id": "9a400025-a792-4637-9f6b-da2ff016b9aa",
   "metadata": {},
   "outputs": [
    {
     "name": "stdout",
     "output_type": "stream",
     "text": [
      "['D1', 'D2', 'D3', 'D4', 'D5', 10, 20, 30, 40]\n"
     ]
    }
   ],
   "source": [
    "print(L)"
   ]
  },
  {
   "cell_type": "code",
   "execution_count": 23,
   "id": "3b957c9f-7f82-415f-b1a4-92bb90da2520",
   "metadata": {},
   "outputs": [
    {
     "name": "stdout",
     "output_type": "stream",
     "text": [
      "removed value:D3\n",
      "['D1', 'D2', 'D4', 'D5', 10, 20, 30, 40]\n"
     ]
    }
   ],
   "source": [
    "rv = L.pop(2)\n",
    "print(f\"removed value:{rv}\")\n",
    "print(L)"
   ]
  },
  {
   "cell_type": "code",
   "execution_count": 24,
   "id": "704087c4-3b51-4b84-991b-09cf3fba6134",
   "metadata": {},
   "outputs": [
    {
     "name": "stdout",
     "output_type": "stream",
     "text": [
      "<class 'list'> <class 'tuple'>\n"
     ]
    }
   ],
   "source": [
    "print(type([]),type(()))"
   ]
  },
  {
   "cell_type": "code",
   "execution_count": 25,
   "id": "16568597-a01e-4eed-b2fe-b214936fbfdc",
   "metadata": {},
   "outputs": [
    {
     "name": "stdout",
     "output_type": "stream",
     "text": [
      "<class 'tuple'> 4\n"
     ]
    }
   ],
   "source": [
    "# emp = ['Raj',1234,True,4589.23] - list\n",
    "\n",
    "emp = ('Raj',1234,True,4589.23) # tuple\n",
    "print(type(emp),len(emp))"
   ]
  },
  {
   "cell_type": "code",
   "execution_count": 26,
   "id": "ab075baf-90d9-4fef-95d9-a830f609ce75",
   "metadata": {},
   "outputs": [
    {
     "name": "stdout",
     "output_type": "stream",
     "text": [
      "Raj\n",
      "1234\n",
      "4589.23\n"
     ]
    }
   ],
   "source": [
    "print(emp[0])\n",
    "print(emp[1])\n",
    "print(emp[-1])"
   ]
  },
  {
   "cell_type": "code",
   "execution_count": 28,
   "id": "8ccbe414-8bd8-46aa-bd25-c1547655f89f",
   "metadata": {},
   "outputs": [
    {
     "ename": "TypeError",
     "evalue": "'tuple' object does not support item assignment",
     "output_type": "error",
     "traceback": [
      "\u001b[1;31m---------------------------------------------------------------------------\u001b[0m",
      "\u001b[1;31mTypeError\u001b[0m                                 Traceback (most recent call last)",
      "Cell \u001b[1;32mIn[28], line 1\u001b[0m\n\u001b[1;32m----> 1\u001b[0m emp[\u001b[38;5;241m1\u001b[39m] \u001b[38;5;241m=\u001b[39m \u001b[38;5;241m4567\u001b[39m\n",
      "\u001b[1;31mTypeError\u001b[0m: 'tuple' object does not support item assignment"
     ]
    }
   ],
   "source": [
    "emp[1] = 4567 # Error - tuple is immutable - we can't modify the nth item"
   ]
  },
  {
   "cell_type": "code",
   "execution_count": 29,
   "id": "908bc08d-c032-4313-be32-d941f0be2101",
   "metadata": {},
   "outputs": [
    {
     "name": "stdout",
     "output_type": "stream",
     "text": [
      "<class 'str'> 7\n",
      "a\n",
      "b\n",
      "g\n"
     ]
    }
   ],
   "source": [
    "\n",
    "# str also immutable - we can't add/delete/modify like tuple \n",
    "\n",
    "s='abcdefg'\n",
    "print(type(s),len(s))\n",
    "print(s[0])\n",
    "print(s[1])\n",
    "print(s[-1])"
   ]
  },
  {
   "cell_type": "code",
   "execution_count": 30,
   "id": "c6d963b7-1f3a-429c-b44b-220aea9d744d",
   "metadata": {},
   "outputs": [
    {
     "ename": "TypeError",
     "evalue": "'str' object does not support item assignment",
     "output_type": "error",
     "traceback": [
      "\u001b[1;31m---------------------------------------------------------------------------\u001b[0m",
      "\u001b[1;31mTypeError\u001b[0m                                 Traceback (most recent call last)",
      "Cell \u001b[1;32mIn[30], line 1\u001b[0m\n\u001b[1;32m----> 1\u001b[0m s[\u001b[38;5;241m1\u001b[39m]\u001b[38;5;241m=\u001b[39m\u001b[38;5;124m'\u001b[39m\u001b[38;5;124mX\u001b[39m\u001b[38;5;124m'\u001b[39m\n",
      "\u001b[1;31mTypeError\u001b[0m: 'str' object does not support item assignment"
     ]
    }
   ],
   "source": [
    "s[1]='X' # Error - str is immutable - we can't modify "
   ]
  },
  {
   "cell_type": "raw",
   "id": "b504adf8-20b4-406f-a964-f4e72664a782",
   "metadata": {},
   "source": [
    "##########         END OF THE DAY1  SESSION ################"
   ]
  }
 ],
 "metadata": {
  "kernelspec": {
   "display_name": "Python 3 (ipykernel)",
   "language": "python",
   "name": "python3"
  },
  "language_info": {
   "codemirror_mode": {
    "name": "ipython",
    "version": 3
   },
   "file_extension": ".py",
   "mimetype": "text/x-python",
   "name": "python",
   "nbconvert_exporter": "python",
   "pygments_lexer": "ipython3",
   "version": "3.13.5"
  }
 },
 "nbformat": 4,
 "nbformat_minor": 5
}
